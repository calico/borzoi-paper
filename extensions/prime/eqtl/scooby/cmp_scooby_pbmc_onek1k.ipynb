{
 "cells": [
  {
   "cell_type": "code",
   "execution_count": 1,
   "id": "a7ea8022",
   "metadata": {},
   "outputs": [],
   "source": [
    "import sys\n",
    "import os\n",
    "import numpy as np\n",
    "import pandas as pd\n",
    "\n",
    "import h5py\n",
    "\n",
    "import matplotlib.pyplot as plt\n",
    "from scipy.stats import spearmanr, pearsonr\n",
    "from sklearn.metrics import precision_recall_curve, average_precision_score, roc_curve, roc_auc_score\n",
    "\n",
    "import anndata as ad\n",
    "\n",
    "import pyranges as pr\n",
    "import glob\n",
    "import tqdm\n"
   ]
  },
  {
   "cell_type": "code",
   "execution_count": 5,
   "id": "a364f872",
   "metadata": {},
   "outputs": [
    {
     "name": "stderr",
     "output_type": "stream",
     "text": [
      "100%|█████████████████████████████████████████████████████████████████████████████████████████| 11/11 [00:00<00:00, 101.24it/s]"
     ]
    },
    {
     "name": "stdout",
     "output_type": "stream",
     "text": [
      "SpearmanrResult(correlation=0.4306268631691073, pvalue=8.427963504577426e-12)\n"
     ]
    },
    {
     "name": "stderr",
     "output_type": "stream",
     "text": [
      "\n",
      "/home/jlinder/anaconda3/envs/borzoi_py310_sc/lib/python3.10/site-packages/anndata/_core/anndata.py:1756: UserWarning: Observation names are not unique. To make them unique, call `.obs_names_make_unique`.\n",
      "  utils.warn_names_duplicates(\"obs\")\n"
     ]
    }
   ],
   "source": [
    "#Load scooby scores for OneK1K PBMC sc-eQTLs\n",
    "\n",
    "###########\n",
    "# Code copied: from https://github.com/gagneurlab/scooby_reproducibility/blob/main/notebooks/figure4/Figure4.ipynb\n",
    "###########\n",
    "\n",
    "data_path = '/scratch5/jlinder/scooby/reproducibility_data/'\n",
    "\n",
    "#Load GTF file\n",
    "gtf_file = f\"{data_path}gencode.v32.annotation.sorted.gtf.gz\"\n",
    "gtf = pr.read_gtf(gtf_file).df.query('Feature == \"gene\"')\n",
    "gtf['gene_id'] = gtf['gene_id'].apply(lambda x: x.split('.')[0])\n",
    "gtf = gtf[['Start','End','Strand','gene_name','gene_id']].rename(columns={'Start':'gene_start','End':'gene_end'}).drop_duplicates(subset=['gene_id','gene_name'])\n",
    "\n",
    "#Load SuSiE fine-mapping table\n",
    "susie_df = pd.read_table(f'{data_path}eQTL_fig4/all_highpip_susie.tsv')\n",
    "\n",
    "susie_len = len(susie_df)\n",
    "susie_df = susie_df.merge(gtf, on=['gene_id','gene_name'])\n",
    "assert len(susie_df) == susie_len\n",
    "\n",
    "susie_df['dist_to_tss'] = (susie_df['Pos'] - susie_df['gene_start'])*(susie_df['Strand'] == \"+\") + (susie_df['Pos'] - susie_df['gene_end'])*(susie_df['Strand'] == \"-\")\n",
    "susie_df['abs_dist_to_tss'] = np.abs(susie_df['dist_to_tss'])\n",
    "\n",
    "susie_df['unique_id'] = susie_df['variant'] + \"_\" + susie_df['gene_id']\n",
    "\n",
    "#Load scooby variant effect predictions\n",
    "model = 'scooby_neurips'\n",
    "adata_list = []\n",
    "\n",
    "paths = sorted(glob.glob(f'{data_path}/eQTL_fig4/scooby_variants_tsscentred/*.h5ad'),key=lambda x: int(x.split('/')[-1].split('_')[1]))\n",
    "for path in tqdm.tqdm(paths):\n",
    "    adata = ad.read_h5ad(path)\n",
    "    adata_list.append(adata)\n",
    "\n",
    "adata = ad.concat(adata_list, merge='same')\n",
    "adata.obs_names = adata.obs['variant'] + \"_\" + adata.obs['gene_id']\n",
    "\n",
    "#Append scooby scores to susie dataframe\n",
    "\n",
    "def make_scooby_mapping(adata):\n",
    "    mapping = dict()\n",
    "    mapping['GTEx'] = {\n",
    "        'blood' : set(susie_df.query('study_label == \"OneK1K\"').tissue_label.str.replace(' ', '_')),\n",
    "    }\n",
    "    mapping['OneK1K'] = dict()\n",
    "    for ct in set(susie_df.query('study_label == \"OneK1K\"').tissue_label.unique()):\n",
    "        mapping['OneK1K'][ct] = [ct.replace(\" \", \"_\")]\n",
    "    \n",
    "    return mapping\n",
    "\n",
    "study = 'OneK1K'\n",
    "\n",
    "mapping = make_scooby_mapping(adata)\n",
    "tissue_mapping = mapping[study]\n",
    "\n",
    "scooby_dfs = []\n",
    "\n",
    "#Loop over tissues\n",
    "for tissue in ['NK cell', 'B cell', 'CD4+ T cell', 'monocyte', 'CD4+ TCM cell', 'CD8+ TEM cell'] :\n",
    "\n",
    "    #Query one tissue at a time\n",
    "    reduced_susie = susie_df.query('study_label == @study and tissue_label == @tissue').sort_values('sample_size',ascending=False).drop_duplicates(subset=['gene_id','variant'], keep='first')\n",
    "    assert len(reduced_susie) > 0\n",
    "    reduced_adata = adata[adata.obs.index.isin(set(reduced_susie['unique_id'])), adata.var.index.isin(tissue_mapping[tissue])]\n",
    "    snp_effects = pd.DataFrame({'variant':reduced_adata.obs['variant'],\n",
    "                                'gene_id':reduced_adata.obs['gene_id'],\n",
    "                                'pred_effect':reduced_adata.X.mean(axis=1)})\n",
    "\n",
    "    reduced_susie = reduced_susie.merge(snp_effects, on=['variant','gene_id'])\n",
    "    assert len(reduced_susie) == len(snp_effects)\n",
    "\n",
    "    scooby_df = reduced_susie.copy()\n",
    "    scooby_dfs.append(scooby_df)\n",
    "\n",
    "#Concatenate across tissues\n",
    "scooby_df = pd.concat(scooby_dfs).copy()\n",
    "\n",
    "#Verify that the Spearman R for NK cells is as expected\n",
    "print(spearmanr(scooby_df.query(\"tissue_label == 'NK cell'\")['pred_effect'], scooby_df.query(\"tissue_label == 'NK cell'\")['beta']))\n"
   ]
  },
  {
   "cell_type": "code",
   "execution_count": 2,
   "id": "87b11865",
   "metadata": {},
   "outputs": [],
   "source": [
    "#Cache scooby prediction dataframe (unique snp/tissue-pairs)\n",
    "#scooby_df_unique = scooby_df.drop_duplicates(subset=['gene_id', 'variant', 'tissue_label'], keep='first').copy()\n",
    "\n",
    "#scooby_df_unique.to_csv('onek1k_scooby_ext.tsv', sep='\\t', index=False)\n",
    "scooby_df_unique = pd.read_csv('onek1k_scooby_ext.tsv', sep='\\t')\n"
   ]
  },
  {
   "cell_type": "code",
   "execution_count": 3,
   "id": "ca750826",
   "metadata": {},
   "outputs": [
    {
     "name": "stdout",
     "output_type": "stream",
     "text": [
      "rp_mat.shape = (3, 4)\n",
      "rs_mat.shape = (3, 4)\n",
      "n_mat.shape = (4,)\n"
     ]
    }
   ],
   "source": [
    "#Calculate correlation metrics for all models\n",
    "\n",
    "model_names = [\n",
    "    'scooby',\n",
    "    'prime 1x',\n",
    "    'prime 4x',\n",
    "]\n",
    "\n",
    "rp_mat = np.zeros((3, 4))\n",
    "rs_mat = np.zeros((3, 4))\n",
    "n_mat = np.zeros(4)\n",
    "\n",
    "tissues = ['nk_cell', 't_cell_cd4', 't_cell_cd4_tcm', 't_cell_cd8_tem']\n",
    "tissues_kw = ['NK cell', 'CD4+ T cell', 'CD4+ TCM cell', 'CD8+ TEM cell']\n",
    "\n",
    "score_cols = ['nk_cell', 't_cell_cd4', 't_cell_cd4_tcm', 't_cell_cd8_tem']\n",
    "\n",
    "#Loop over tissues\n",
    "for tissue_i, [tissue, tissue_kw, score_col] in enumerate(zip(tissues, tissues_kw, score_cols)) :\n",
    "    \n",
    "    #Load borzoi prime scores\n",
    "    df_borz_1 = pd.read_csv('../borzoi_prime_pbmc_onek1k_' + tissue + '_pseudo_ext_pos_1_fold.tsv', sep='\\t')\n",
    "    df_borz_1['unique_id'] = df_borz_1['snp'] + '_' + df_borz_1['finemap_gene_id']\n",
    "    df_borz_1 = df_borz_1[['unique_id', 'beta', 'score_' + score_col]].rename(columns={'score_' + score_col : 'score_borzoi_1'}).copy()\n",
    "    \n",
    "    df_borz_4 = pd.read_csv('../borzoi_prime_pbmc_onek1k_' + tissue + '_pseudo_ext_pos.tsv', sep='\\t')\n",
    "    df_borz_4['unique_id'] = df_borz_4['snp'] + '_' + df_borz_4['finemap_gene_id']\n",
    "    df_borz_4 = df_borz_4[['unique_id', 'score_' + score_col]].rename(columns={'score_' + score_col : 'score_borzoi_4'}).copy()\n",
    "\n",
    "    #Join all dataframes\n",
    "    df_overlap = scooby_df_unique.query(\"tissue_label == '\" + tissue_kw + \"'\")[['unique_id', 'pred_effect']].rename(columns={'pred_effect' : 'score_scooby'}).copy().reset_index(drop=True)\n",
    "    df_overlap = df_overlap.join(df_borz_1.set_index('unique_id'), on='unique_id', how='inner').copy()\n",
    "    df_overlap = df_overlap.join(df_borz_4.set_index('unique_id'), on='unique_id', how='inner').copy()\n",
    "\n",
    "    #Calculate metrics\n",
    "    \n",
    "    n_mat[tissue_i] = len(df_overlap)\n",
    "    \n",
    "    rp_mat[0, tissue_i] = pearsonr(df_overlap['beta'], df_overlap['score_scooby'])[0]\n",
    "    rp_mat[1, tissue_i] = pearsonr(df_overlap['beta'], df_overlap['score_borzoi_1'])[0]\n",
    "    rp_mat[2, tissue_i] = pearsonr(df_overlap['beta'], df_overlap['score_borzoi_4'])[0]\n",
    "\n",
    "    rs_mat[0, tissue_i] = spearmanr(df_overlap['beta'], df_overlap['score_scooby'])[0]\n",
    "    rs_mat[1, tissue_i] = spearmanr(df_overlap['beta'], df_overlap['score_borzoi_1'])[0]\n",
    "    rs_mat[2, tissue_i] = spearmanr(df_overlap['beta'], df_overlap['score_borzoi_4'])[0]\n",
    "\n",
    "print(\"rp_mat.shape = \" + str(rp_mat.shape))\n",
    "print(\"rs_mat.shape = \" + str(rs_mat.shape))\n",
    "print(\"n_mat.shape = \" + str(n_mat.shape))\n"
   ]
  },
  {
   "cell_type": "code",
   "execution_count": 4,
   "id": "d4dbbbba",
   "metadata": {},
   "outputs": [
    {
     "name": "stderr",
     "output_type": "stream",
     "text": [
      "The PostScript backend does not support transparency; partially transparent artists will be rendered opaque.\n"
     ]
    },
    {
     "data": {
      "image/png": "[encoded data removed]",
      "text/plain": [
       "<Figure size 400x300 with 1 Axes>"
      ]
     },
     "metadata": {},
     "output_type": "display_data"
    },
    {
     "name": "stderr",
     "output_type": "stream",
     "text": [
      "The PostScript backend does not support transparency; partially transparent artists will be rendered opaque.\n"
     ]
    },
    {
     "data": {
      "image/png": "[encoded data removed]",
      "text/plain": [
       "<Figure size 400x300 with 1 Axes>"
      ]
     },
     "metadata": {},
     "output_type": "display_data"
    }
   ],
   "source": [
    "#Pearson R\n",
    "\n",
    "model_index = np.arange(rp_mat.shape[0], dtype='int32')\n",
    "\n",
    "f = plt.figure(figsize=(4, 3))\n",
    "\n",
    "plt.bar(model_index * 4.5 + 0, rp_mat[:, 0], color='lightgreen', edgecolor='black', linewidth=1, label=tissues[0])\n",
    "plt.bar(model_index * 4.5 + 1, rp_mat[:, 1], color='lightcoral', edgecolor='black', linewidth=1, label=tissues[1])\n",
    "plt.bar(model_index * 4.5 + 2, rp_mat[:, 2], color='lightskyblue', edgecolor='black', linewidth=1, label=tissues[2])\n",
    "plt.bar(model_index * 4.5 + 3, rp_mat[:, 3], color='wheat', edgecolor='black', linewidth=1, label=tissues[3])\n",
    "\n",
    "plt.ylim(0.24, 0.38)\n",
    "\n",
    "plt.xticks(model_index * 4.5 + 1.5, model_names, rotation=0, fontsize=8)\n",
    "plt.yticks(fontsize=8)\n",
    "\n",
    "plt.ylabel('Pearson R', fontsize=8)\n",
    "\n",
    "plt.legend(fontsize=8)\n",
    "\n",
    "plt.tight_layout()\n",
    "\n",
    "plt.savefig('scooby_cmp_pearson.eps')\n",
    "\n",
    "plt.show()\n",
    "\n",
    "#Spearman R\n",
    "\n",
    "model_index = np.arange(rs_mat.shape[0], dtype='int32')\n",
    "\n",
    "f = plt.figure(figsize=(4, 3))\n",
    "\n",
    "plt.bar(model_index * 4.5 + 0, rs_mat[:, 0], color='lightgreen', edgecolor='black', linewidth=1, label=tissues[0])\n",
    "plt.bar(model_index * 4.5 + 1, rs_mat[:, 1], color='lightcoral', edgecolor='black', linewidth=1, label=tissues[1])\n",
    "plt.bar(model_index * 4.5 + 2, rs_mat[:, 2], color='lightskyblue', edgecolor='black', linewidth=1, label=tissues[2])\n",
    "plt.bar(model_index * 4.5 + 3, rs_mat[:, 3], color='wheat', edgecolor='black', linewidth=1, label=tissues[3])\n",
    "\n",
    "plt.ylim(0.30, 0.50)\n",
    "\n",
    "plt.xticks(model_index * 4.5 + 1.5, model_names, rotation=0, fontsize=8)\n",
    "plt.yticks([0.30, 0.35, 0.40, 0.45, 0.50], fontsize=8)\n",
    "\n",
    "plt.ylabel('Spearman R', fontsize=8)\n",
    "\n",
    "plt.legend(fontsize=8)\n",
    "\n",
    "plt.tight_layout()\n",
    "\n",
    "plt.savefig('scooby_cmp_spearman.eps')\n",
    "\n",
    "plt.show()\n"
   ]
  },
  {
   "cell_type": "code",
   "execution_count": 5,
   "id": "a45ea42a",
   "metadata": {},
   "outputs": [
    {
     "name": "stdout",
     "output_type": "stream",
     "text": [
      "rp_mat.shape = (3, 4)\n",
      "rs_mat.shape = (3, 4)\n",
      "n_mat.shape = (4,)\n"
     ]
    }
   ],
   "source": [
    "#(Re-)Calculate correlation metrics for all models; cutoff = 0.05 (from scooby paper)\n",
    "\n",
    "model_names = [\n",
    "    'scooby',\n",
    "    'prime 1x',\n",
    "    'prime 4x',\n",
    "]\n",
    "\n",
    "rp_mat = np.zeros((3, 4))\n",
    "rs_mat = np.zeros((3, 4))\n",
    "n_mat = np.zeros(4)\n",
    "\n",
    "tissues = ['nk_cell', 't_cell_cd4', 't_cell_cd4_tcm', 't_cell_cd8_tem']\n",
    "tissues_kw = ['NK cell', 'CD4+ T cell', 'CD4+ TCM cell', 'CD8+ TEM cell']\n",
    "\n",
    "score_cols = ['nk_cell', 't_cell_cd4', 't_cell_cd4_tcm', 't_cell_cd8_tem']\n",
    "\n",
    "cutoff = 0.05\n",
    "\n",
    "#Loop over tissues\n",
    "for tissue_i, [tissue, tissue_kw, score_col] in enumerate(zip(tissues, tissues_kw, score_cols)) :\n",
    "    \n",
    "    #Load borzoi prime scores\n",
    "    df_borz_1 = pd.read_csv('../borzoi_prime_pbmc_onek1k_' + tissue + '_pseudo_ext_pos_1_fold.tsv', sep='\\t')\n",
    "    df_borz_1['unique_id'] = df_borz_1['snp'] + '_' + df_borz_1['finemap_gene_id']\n",
    "    df_borz_1 = df_borz_1[['unique_id', 'beta', 'score_' + score_col]].rename(columns={'score_' + score_col : 'score_borzoi_1'}).copy()\n",
    "    \n",
    "    df_borz_4 = pd.read_csv('../borzoi_prime_pbmc_onek1k_' + tissue + '_pseudo_ext_pos.tsv', sep='\\t')\n",
    "    df_borz_4['unique_id'] = df_borz_4['snp'] + '_' + df_borz_4['finemap_gene_id']\n",
    "    df_borz_4 = df_borz_4[['unique_id', 'score_' + score_col]].rename(columns={'score_' + score_col : 'score_borzoi_4'}).copy()\n",
    "\n",
    "    #Join all dataframes\n",
    "    df_overlap = scooby_df_unique.query(\"tissue_label == '\" + tissue_kw + \"'\")[['unique_id', 'pred_effect']].rename(columns={'pred_effect' : 'score_scooby'}).copy().reset_index(drop=True)\n",
    "    df_overlap = df_overlap.join(df_borz_1.set_index('unique_id'), on='unique_id', how='inner').copy()\n",
    "    df_overlap = df_overlap.join(df_borz_4.set_index('unique_id'), on='unique_id', how='inner').copy()\n",
    "\n",
    "    #Filter\n",
    "    df_overlap_scooby = df_overlap.query(\"score_scooby > \" + str(cutoff) + \" or score_scooby < -\" + str(cutoff)).copy().reset_index(drop=True)\n",
    "    \n",
    "    n_kept = len(df_overlap_scooby)\n",
    "    \n",
    "    #Get size-matched dataframes for other models\n",
    "    df_overlap_borzoi_1 = df_overlap.sort_values(by='score_borzoi_1', ascending=False, key=lambda x: x.abs())[:n_kept].copy().reset_index(drop=True)\n",
    "    df_overlap_borzoi_4 = df_overlap.sort_values(by='score_borzoi_4', ascending=False, key=lambda x: x.abs())[:n_kept].copy().reset_index(drop=True)\n",
    "\n",
    "    #Calculate metrics\n",
    "    \n",
    "    n_mat[tissue_i] = n_kept\n",
    "    \n",
    "    rp_mat[0, tissue_i] = pearsonr(df_overlap_scooby['beta'], df_overlap_scooby['score_scooby'])[0]\n",
    "    rp_mat[1, tissue_i] = pearsonr(df_overlap_borzoi_1['beta'], df_overlap_borzoi_1['score_borzoi_1'])[0]\n",
    "    rp_mat[2, tissue_i] = pearsonr(df_overlap_borzoi_4['beta'], df_overlap_borzoi_4['score_borzoi_4'])[0]\n",
    "\n",
    "    rs_mat[0, tissue_i] = spearmanr(df_overlap_scooby['beta'], df_overlap_scooby['score_scooby'])[0]\n",
    "    rs_mat[1, tissue_i] = spearmanr(df_overlap_borzoi_1['beta'], df_overlap_borzoi_1['score_borzoi_1'])[0]\n",
    "    rs_mat[2, tissue_i] = spearmanr(df_overlap_borzoi_4['beta'], df_overlap_borzoi_4['score_borzoi_4'])[0]\n",
    "\n",
    "print(\"rp_mat.shape = \" + str(rp_mat.shape))\n",
    "print(\"rs_mat.shape = \" + str(rs_mat.shape))\n",
    "print(\"n_mat.shape = \" + str(n_mat.shape))\n"
   ]
  },
  {
   "cell_type": "code",
   "execution_count": 6,
   "id": "a3b47940",
   "metadata": {},
   "outputs": [
    {
     "name": "stderr",
     "output_type": "stream",
     "text": [
      "The PostScript backend does not support transparency; partially transparent artists will be rendered opaque.\n"
     ]
    },
    {
     "data": {
      "image/png": "[encoded data removed]",
      "text/plain": [
       "<Figure size 400x300 with 1 Axes>"
      ]
     },
     "metadata": {},
     "output_type": "display_data"
    },
    {
     "name": "stderr",
     "output_type": "stream",
     "text": [
      "The PostScript backend does not support transparency; partially transparent artists will be rendered opaque.\n"
     ]
    },
    {
     "data": {
      "image/png": "[encoded data removed]",
      "text/plain": [
       "<Figure size 400x300 with 1 Axes>"
      ]
     },
     "metadata": {},
     "output_type": "display_data"
    }
   ],
   "source": [
    "#Pearson R\n",
    "\n",
    "model_index = np.arange(rp_mat.shape[0], dtype='int32')\n",
    "\n",
    "f = plt.figure(figsize=(4, 3))\n",
    "\n",
    "plt.bar(model_index * 4.5 + 0, rp_mat[:, 0], color='lightgreen', edgecolor='black', linewidth=1, label=tissues[0])\n",
    "plt.bar(model_index * 4.5 + 1, rp_mat[:, 1], color='lightcoral', edgecolor='black', linewidth=1, label=tissues[1])\n",
    "plt.bar(model_index * 4.5 + 2, rp_mat[:, 2], color='lightskyblue', edgecolor='black', linewidth=1, label=tissues[2])\n",
    "plt.bar(model_index * 4.5 + 3, rp_mat[:, 3], color='wheat', edgecolor='black', linewidth=1, label=tissues[3])\n",
    "\n",
    "plt.ylim(0.50, 0.70)\n",
    "\n",
    "plt.xticks(model_index * 4.5 + 1.5, model_names, rotation=0, fontsize=8)\n",
    "plt.yticks([0.50, 0.55, 0.60, 0.65, 0.70], fontsize=8)\n",
    "\n",
    "plt.ylabel('Pearson R', fontsize=8)\n",
    "\n",
    "plt.legend(fontsize=8)\n",
    "\n",
    "plt.tight_layout()\n",
    "\n",
    "plt.savefig('scooby_cmp_pearson_cutoff.eps')\n",
    "\n",
    "plt.show()\n",
    "\n",
    "#Spearman R\n",
    "\n",
    "model_index = np.arange(rs_mat.shape[0], dtype='int32')\n",
    "\n",
    "f = plt.figure(figsize=(4, 3))\n",
    "\n",
    "plt.bar(model_index * 4.5 + 0, rs_mat[:, 0], color='lightgreen', edgecolor='black', linewidth=1, label=tissues[0])\n",
    "plt.bar(model_index * 4.5 + 1, rs_mat[:, 1], color='lightcoral', edgecolor='black', linewidth=1, label=tissues[1])\n",
    "plt.bar(model_index * 4.5 + 2, rs_mat[:, 2], color='lightskyblue', edgecolor='black', linewidth=1, label=tissues[2])\n",
    "plt.bar(model_index * 4.5 + 3, rs_mat[:, 3], color='wheat', edgecolor='black', linewidth=1, label=tissues[3])\n",
    "\n",
    "plt.ylim(0.62, 0.82)\n",
    "\n",
    "plt.xticks(model_index * 4.5 + 1.5, model_names, rotation=0, fontsize=8)\n",
    "plt.yticks([0.62, 0.66, 0.70, 0.74, 0.78, 0.82], fontsize=8)\n",
    "\n",
    "plt.ylabel('Spearman R', fontsize=8)\n",
    "\n",
    "plt.legend(fontsize=8)\n",
    "\n",
    "plt.tight_layout()\n",
    "\n",
    "plt.savefig('scooby_cmp_spearman_cutoff.eps')\n",
    "\n",
    "plt.show()\n"
   ]
  },
  {
   "cell_type": "code",
   "execution_count": null,
   "id": "31eb3563",
   "metadata": {},
   "outputs": [],
   "source": []
  }
 ],
 "metadata": {
  "kernelspec": {
   "display_name": "Python [conda env:borzoi_py310_sc]",
   "language": "python",
   "name": "conda-env-borzoi_py310_sc-py"
  },
  "language_info": {
   "codemirror_mode": {
    "name": "ipython",
    "version": 3
   },
   "file_extension": ".py",
   "mimetype": "text/x-python",
   "name": "python",
   "nbconvert_exporter": "python",
   "pygments_lexer": "ipython3",
   "version": "3.10.15"
  }
 },
 "nbformat": 4,
 "nbformat_minor": 5
}
