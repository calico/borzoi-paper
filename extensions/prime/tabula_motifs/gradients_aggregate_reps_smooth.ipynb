{
 "cells": [
  {
   "cell_type": "code",
   "execution_count": 1,
   "id": "7c5f93db",
   "metadata": {},
   "outputs": [],
   "source": [
    "import sys\n",
    "import os\n",
    "import numpy as np\n",
    "import pandas as pd\n",
    "\n",
    "import h5py\n",
    "\n",
    "import gc\n"
   ]
  },
  {
   "cell_type": "code",
   "execution_count": 2,
   "id": "d4988000",
   "metadata": {},
   "outputs": [
    {
     "name": "stdout",
     "output_type": "stream",
     "text": [
      "-- tabula_erytrocyte --\n",
      "-- tabula_hematopoietic --\n",
      "-- tabula_hepatocyte --\n",
      "-- tabula_muscle --\n",
      "-- tabula_tcell --\n"
     ]
    }
   ],
   "source": [
    "#Load scores and auxiliary data, compute mean, and save new scores\n",
    "\n",
    "out_suffix = '_smooth'\n",
    "\n",
    "out_dirs = [\n",
    "    'saved_models/tabula_erytrocyte',\n",
    "    'saved_models/tabula_hematopoietic',\n",
    "    'saved_models/tabula_hepatocyte',\n",
    "    'saved_models/tabula_muscle',\n",
    "    'saved_models/tabula_tcell',\n",
    "]\n",
    "\n",
    "grad_suffixes = [\n",
    "    '_smooth_095',\n",
    "    '_smooth_098',\n",
    "    '',\n",
    "]\n",
    "\n",
    "#Loop over experiments\n",
    "for out_dir in out_dirs :\n",
    "\n",
    "    print(\"-- \" + str(out_dir) + \" --\")\n",
    "\n",
    "    !mkdir {out_dir + out_suffix}\n",
    "    \n",
    "    #Initialize HDF5\n",
    "    scores_h5 = h5py.File('%s%s/scores_mean.h5' % (out_dir, out_suffix), 'w')\n",
    "\n",
    "    seqs = None\n",
    "    grads = None\n",
    "    genes = None\n",
    "    chrs = None\n",
    "    starts = None\n",
    "    ends = None\n",
    "    strands = None\n",
    "    masks = None\n",
    "    for grad_suffix in grad_suffixes :\n",
    "        \n",
    "        score_file = h5py.File(('%s%s/scores_mean.h5' % (out_dir, grad_suffix)), 'r')\n",
    "\n",
    "        if seqs is None :\n",
    "            seqs = score_file['seqs'][()]\n",
    "            grads = score_file['grads'][()]\n",
    "            genes = score_file['gene'][()]\n",
    "            chrs = score_file['chr'][()]\n",
    "            starts = score_file['start'][()]\n",
    "            ends = score_file['end'][()]\n",
    "            strands = score_file['strand'][()]\n",
    "        else :\n",
    "            grads += score_file['grads'][()]\n",
    "        if masks is None and 'masks' in score_file.keys() :\n",
    "            masks = score_file['masks']\n",
    "\n",
    "        #Close h5\n",
    "        score_file.close()\n",
    "        \n",
    "        #Collect garbage\n",
    "        gc.collect()\n",
    "\n",
    "    grads /= float(len(grad_suffixes))\n",
    "\n",
    "    #Re-save datasets in h5\n",
    "    scores_h5.create_dataset('seqs', data=np.array(seqs, dtype='bool'))\n",
    "    scores_h5.create_dataset('grads', data=np.array(grads, dtype='float16'))\n",
    "\n",
    "    scores_h5.create_dataset('gene', data=np.array(genes, dtype='S'))\n",
    "    scores_h5.create_dataset('chr', data=np.array(chrs, dtype='S'))\n",
    "    scores_h5.create_dataset('start', data=np.array(starts))\n",
    "    scores_h5.create_dataset('end', data=np.array(ends))\n",
    "    scores_h5.create_dataset('strand', data=np.array(strands, dtype='S'))\n",
    "    \n",
    "    if masks is not None :\n",
    "        scores_h5.create_dataset('masks', data=np.array(masks, dtype='bool'))\n",
    "\n",
    "    #Close h5\n",
    "    scores_h5.close()\n"
   ]
  },
  {
   "cell_type": "code",
   "execution_count": null,
   "id": "959fec3a",
   "metadata": {},
   "outputs": [],
   "source": []
  }
 ],
 "metadata": {
  "kernelspec": {
   "display_name": "Python 3 (ipykernel)",
   "language": "python",
   "name": "python3"
  },
  "language_info": {
   "codemirror_mode": {
    "name": "ipython",
    "version": 3
   },
   "file_extension": ".py",
   "mimetype": "text/x-python",
   "name": "python",
   "nbconvert_exporter": "python",
   "pygments_lexer": "ipython3",
   "version": "3.8.15"
  }
 },
 "nbformat": 4,
 "nbformat_minor": 5
}
