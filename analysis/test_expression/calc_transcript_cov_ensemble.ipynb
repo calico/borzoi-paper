{
 "cells": [
  {
   "cell_type": "code",
   "execution_count": 1,
   "id": "dfed15e3",
   "metadata": {},
   "outputs": [],
   "source": [
    "import sys\n",
    "import os\n",
    "import numpy as np\n",
    "import pandas as pd\n",
    "from scipy.stats import pearsonr\n"
   ]
  },
  {
   "cell_type": "code",
   "execution_count": 2,
   "id": "ff9a77b5",
   "metadata": {},
   "outputs": [],
   "source": [
    "#Read targets\n",
    "\n",
    "targets_strand_df = pd.read_csv('test_apa/f3c0/testg-0/acc.txt', index_col=0, sep='\\t')[['identifier', 'description']]\n"
   ]
  },
  {
   "cell_type": "code",
   "execution_count": 3,
   "id": "f2835725",
   "metadata": {},
   "outputs": [],
   "source": [
    "#Store original target indices\n",
    "\n",
    "targets_strand_df['row_index'] = np.arange(len(targets_strand_df), dtype='int32')\n",
    "\n",
    "#Get dataframe columns (identifiers)\n",
    "cols = targets_strand_df['identifier'].values.tolist()\n"
   ]
  },
  {
   "cell_type": "code",
   "execution_count": 4,
   "id": "f0df783b",
   "metadata": {},
   "outputs": [],
   "source": [
    "#Load gene dataframe\n",
    "\n",
    "gene_df = pd.read_csv('test_apa/f3c0/testg-0/gene_preds.tsv', sep='\\t').rename(columns={'Unnamed: 0' : 'gene_id'})[['gene_id']].copy().reset_index(drop=True)\n"
   ]
  },
  {
   "cell_type": "code",
   "execution_count": 5,
   "id": "b3fc8dae",
   "metadata": {
    "scrolled": true
   },
   "outputs": [
    {
     "name": "stdout",
     "output_type": "stream",
     "text": [
      "Processing gene 0\n",
      "Processing gene 100\n",
      "Processing gene 200\n",
      "Processing gene 300\n",
      "Processing gene 400\n",
      "Processing gene 500\n",
      "Processing gene 600\n",
      "Processing gene 700\n",
      "Processing gene 800\n",
      "Processing gene 900\n",
      "Processing gene 1000\n",
      "Processing gene 1100\n",
      "Processing gene 1200\n",
      "Processing gene 1300\n",
      "Processing gene 1400\n",
      "Processing gene 1500\n",
      "Processing gene 1600\n",
      "Processing gene 1700\n",
      "Processing gene 1800\n",
      "Processing gene 1900\n"
     ]
    }
   ],
   "source": [
    "#Compute ensemble coverage predictions\n",
    "\n",
    "gene_ids = gene_df['gene_id'].values.tolist()\n",
    "gene_within = []\n",
    "gene_wvar = []\n",
    "\n",
    "num_targets_strand = len(targets_strand_df)\n",
    "\n",
    "fold_ix = 3\n",
    "cross_index = [0, 1, 2, 3]\n",
    "\n",
    "#Loop over gene ids\n",
    "for gene_i, gene_id in enumerate(gene_ids) :\n",
    "    \n",
    "    if gene_i % 100 == 0 :\n",
    "        print('Processing gene ' + str(gene_i))\n",
    "    \n",
    "    #Load gene preds/targets\n",
    "    hash_code = str(gene_id.split(\".\")[0][-1]) #Last digit of gene id\n",
    "    \n",
    "    gene_preds_gi_agg = None\n",
    "    gene_targets_gi_agg = None\n",
    "    \n",
    "    #Loop over replicates\n",
    "    for cross_ix in cross_index :\n",
    "        out_dir = 'test_apa/f' + str(fold_ix) + 'c' + str(cross_ix) + '/testgs-0'\n",
    "    \n",
    "        #Load cached prediction and targets across gene span\n",
    "        gene_preds_gi = np.load('%s/gene_within/%s/preds/%s_preds.npy' % (out_dir, hash_code, gene_id)).astype('float32')\n",
    "        gene_targets_gi = np.load('%s/gene_within/%s/targets/%s_targets.npy' % (out_dir, hash_code, gene_id)).astype('float32')\n",
    "    \n",
    "        #Aggregate across replicates\n",
    "        if gene_preds_gi_agg is None :\n",
    "            gene_preds_gi_agg = gene_preds_gi\n",
    "            gene_targets_gi_agg = gene_targets_gi\n",
    "        else :\n",
    "            gene_preds_gi_agg += gene_preds_gi\n",
    "            gene_targets_gi_agg += gene_targets_gi\n",
    "    \n",
    "    #Compute average\n",
    "    gene_preds_gi = gene_preds_gi_agg / float(len(cross_index))\n",
    "    gene_targets_gi = gene_targets_gi_agg / float(len(cross_index))\n",
    "    \n",
    "    #Compute within gene correlation\n",
    "    gene_corr_gi = np.zeros(num_targets_strand, dtype='float32')\n",
    "    \n",
    "    #Loop over targets\n",
    "    for ti in range(num_targets_strand) :\n",
    "        \n",
    "        #Compute metrics if variance is non-zero\n",
    "        if gene_preds_gi[:, ti].var() > 1e-6 and gene_targets_gi[:, ti].var() > 1e-6 :\n",
    "            preds_log = np.log2(gene_preds_gi[:, ti] + 1.)\n",
    "            targets_log = np.log2(gene_targets_gi[:, ti] + 1.)\n",
    "            gene_corr_gi[ti] = pearsonr(preds_log, targets_log)[0]\n",
    "        else :\n",
    "            gene_corr_gi[ti] = np.nan\n",
    "    \n",
    "    gene_within.append(gene_corr_gi)\n",
    "    gene_wvar.append(gene_targets_gi.var(axis=0))\n",
    "\n",
    "gene_within = np.array(gene_within)\n",
    "gene_wvar = np.array(gene_wvar)\n",
    "\n",
    "out_dir = 'test_apa/f' + str(fold_ix) + 'c0/testgs-0'\n",
    "\n",
    "#Store newly computed metrics\n",
    "\n",
    "genes_within_df = pd.DataFrame(gene_within, index=gene_ids, columns=targets_strand_df.identifier)\n",
    "genes_within_df.to_csv('%s/gene_within_ens.tsv' % out_dir, sep='\\t')\n",
    "\n",
    "genes_var_df = pd.DataFrame(gene_wvar, index=gene_ids, columns=targets_strand_df.identifier)\n",
    "genes_var_df.to_csv('%s/gene_var_ens.tsv' % out_dir, sep='\\t')\n"
   ]
  },
  {
   "cell_type": "code",
   "execution_count": null,
   "id": "8abfead0",
   "metadata": {},
   "outputs": [],
   "source": []
  }
 ],
 "metadata": {
  "kernelspec": {
   "display_name": "Python 3 (ipykernel)",
   "language": "python",
   "name": "python3"
  },
  "language_info": {
   "codemirror_mode": {
    "name": "ipython",
    "version": 3
   },
   "file_extension": ".py",
   "mimetype": "text/x-python",
   "name": "python",
   "nbconvert_exporter": "python",
   "pygments_lexer": "ipython3",
   "version": "3.9.13"
  }
 },
 "nbformat": 4,
 "nbformat_minor": 5
}
