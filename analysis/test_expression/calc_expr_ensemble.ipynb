{
 "cells": [
  {
   "cell_type": "code",
   "execution_count": 1,
   "id": "dfed15e3",
   "metadata": {},
   "outputs": [],
   "source": [
    "import sys\n",
    "import os\n",
    "import numpy as np\n",
    "import pandas as pd\n",
    "from scipy.stats import pearsonr\n"
   ]
  },
  {
   "cell_type": "code",
   "execution_count": 2,
   "id": "ff9a77b5",
   "metadata": {},
   "outputs": [],
   "source": [
    "#Read targets\n",
    "\n",
    "targets_strand_df = pd.read_csv('test_apa/f3c0/testg-0/acc.txt', index_col=0, sep='\\t')[['identifier', 'description']]\n"
   ]
  },
  {
   "cell_type": "code",
   "execution_count": 3,
   "id": "f2835725",
   "metadata": {},
   "outputs": [],
   "source": [
    "#Store original target indices\n",
    "\n",
    "targets_strand_df['row_index'] = np.arange(len(targets_strand_df), dtype='int32')\n",
    "\n",
    "#Get dataframe columns (identifiers)\n",
    "cols = targets_strand_df['identifier'].values.tolist()\n"
   ]
  },
  {
   "cell_type": "code",
   "execution_count": 16,
   "id": "22e98a12",
   "metadata": {},
   "outputs": [],
   "source": [
    "#Load gene prediction dataframe(s)\n",
    "\n",
    "num_targets_strand = len(targets_strand_df)\n",
    "\n",
    "fold_ix = 3\n",
    "cross_index = [0, 1, 2, 3]\n",
    "\n",
    "gene_dfs = []\n",
    "\n",
    "#Loop over replicates\n",
    "for cross_ix in cross_index :\n",
    "    gene_df = pd.read_csv('test_apa/f' + str(fold_ix) + 'c' + str(cross_ix) + '/testg-0/gene_preds.tsv', sep='\\t').rename(columns={'Unnamed: 0' : 'gene_id'}).copy().reset_index(drop=True)\n",
    "    gene_dfs.append(gene_df)\n"
   ]
  },
  {
   "cell_type": "code",
   "execution_count": 17,
   "id": "0670d529",
   "metadata": {},
   "outputs": [],
   "source": [
    "#Compute ensemble gene expression predictions\n",
    "\n",
    "gene_df_ens = gene_dfs[0].copy()\n",
    "\n",
    "#Loop over replicates and targets\n",
    "for cross_ix in cross_index[1:] :\n",
    "    for target_col in cols :\n",
    "        gene_df_ens[target_col] += gene_dfs[cross_ix][target_col]\n",
    "\n",
    "#Loop over targets\n",
    "for target_col in cols :\n",
    "    gene_df_ens[target_col] /= float(len(cross_index))\n",
    "\n",
    "gene_df_ens.set_index('gene_id').to_csv('test_apa/f3c0/testg-0/gene_preds_ens.tsv', sep='\\t')\n"
   ]
  },
  {
   "cell_type": "code",
   "execution_count": 6,
   "id": "227d9df7",
   "metadata": {},
   "outputs": [],
   "source": [
    "#Re-load targets and ensemble predictions\n",
    "\n",
    "out_dir = 'test_apa/f3c0/testg-0'\n",
    "\n",
    "genes_targets_df = pd.read_csv('%s/gene_targets.tsv' % out_dir, sep='\\t').rename(columns={'Unnamed: 0' : 'gene_id'})\n",
    "genes_preds_df = pd.read_csv('%s/gene_preds_ens.tsv' % out_dir, sep='\\t').rename(columns={'Unnamed: 0' : 'gene_id'})\n",
    "\n",
    "genes_within_df = pd.read_csv('%s/gene_within_ens.tsv' % out_dir, sep='\\t').rename(columns={'Unnamed: 0' : 'gene_id'})\n",
    "genes_var_df = pd.read_csv('%s/gene_var_ens.tsv' % out_dir, sep='\\t').rename(columns={'Unnamed: 0' : 'gene_id'})\n"
   ]
  },
  {
   "cell_type": "code",
   "execution_count": 14,
   "id": "c06d8928",
   "metadata": {},
   "outputs": [
    {
     "name": "stdout",
     "output_type": "stream",
     "text": [
      "1940 genes\n",
      "Overall PearsonR:     0.8691\n",
      "Overall R2:           0.7506\n",
      "Normalized PearsonR:  0.5754\n",
      "Normalized R2:        0.3308\n",
      "Within-gene PearsonR: 0.8123\n"
     ]
    }
   ],
   "source": [
    "# Re-calculate accuracy stats for ensemble\n",
    "\n",
    "from qnorm import quantile_normalize\n",
    "from sklearn.metrics import explained_variance_score\n",
    "\n",
    "#Get number of targets (after collapsing strands)\n",
    "num_targets_strand = len(targets_strand_df)\n",
    "\n",
    "gene_targets = np.array(genes_targets_df[cols].values)\n",
    "gene_preds = np.array(genes_preds_df[cols].values)\n",
    "gene_within = np.array(genes_within_df[cols].values)\n",
    "gene_wvar = np.array(genes_var_df[cols].values)\n",
    "\n",
    "#Quantile-normalize and subtract mean (targets)\n",
    "gene_targets_norm = quantile_normalize(gene_targets, ncpus=2)\n",
    "gene_targets_norm = gene_targets_norm - gene_targets_norm.mean(axis=-1, keepdims=True)\n",
    "\n",
    "#Quantile-normalize and sutract mean (predictions)\n",
    "gene_preds_norm = quantile_normalize(gene_preds, ncpus=2)\n",
    "gene_preds_norm = gene_preds_norm - gene_preds_norm.mean(axis=-1, keepdims=True)\n",
    "\n",
    "wvar_t = np.percentile(gene_wvar, 80, axis=0)\n",
    "\n",
    "acc_pearsonr = []\n",
    "acc_r2 = []\n",
    "acc_npearsonr = []\n",
    "acc_nr2 = []\n",
    "acc_wpearsonr = []\n",
    "\n",
    "#Loop over targets\n",
    "for ti in range(num_targets_strand) :\n",
    "    \n",
    "    #Calculate metrics\n",
    "    \n",
    "    r_ti = pearsonr(gene_targets[:,ti], gene_preds[:,ti])[0]\n",
    "    acc_pearsonr.append(r_ti)\n",
    "    \n",
    "    r2_ti = explained_variance_score(gene_targets[:,ti], gene_preds[:,ti])\n",
    "    acc_r2.append(r2_ti)\n",
    "    \n",
    "    nr_ti = pearsonr(gene_targets_norm[:,ti], gene_preds_norm[:,ti])[0]\n",
    "    acc_npearsonr.append(nr_ti)\n",
    "    \n",
    "    nr2_ti = explained_variance_score(gene_targets_norm[:,ti], gene_preds_norm[:,ti])\n",
    "    acc_nr2.append(nr2_ti)\n",
    "    \n",
    "    var_mask = (gene_wvar[:,ti] > wvar_t[ti])\n",
    "    \n",
    "    wr_ti = gene_within[:,ti][var_mask].mean()\n",
    "    acc_wpearsonr.append(wr_ti)\n",
    "\n",
    "#Create new dataframe\n",
    "acc_df = pd.DataFrame({\n",
    "    'identifier': targets_strand_df.identifier,\n",
    "    'pearsonr': acc_pearsonr,\n",
    "    'r2': acc_r2,\n",
    "    'pearsonr_norm': acc_npearsonr,\n",
    "    'r2_norm': acc_nr2,\n",
    "    'pearsonr_gene': acc_wpearsonr,\n",
    "    'description': targets_strand_df.description\n",
    "})\n",
    "\n",
    "#Store dataframe\n",
    "acc_df.to_csv('%s/acc_ens.txt' % out_dir, sep='\\t')\n",
    "\n",
    "print('%d genes' % gene_targets.shape[0])\n",
    "print('Overall PearsonR:     %.4f' % np.mean(acc_df.pearsonr))\n",
    "print('Overall R2:           %.4f' % np.mean(acc_df.r2))\n",
    "print('Normalized PearsonR:  %.4f' % np.mean(acc_df.pearsonr_norm))\n",
    "print('Normalized R2:        %.4f' % np.mean(acc_df.r2_norm))\n",
    "print('Within-gene PearsonR: %.4f' % np.mean(acc_df.pearsonr_gene))\n"
   ]
  },
  {
   "cell_type": "code",
   "execution_count": null,
   "id": "4350c95d",
   "metadata": {},
   "outputs": [],
   "source": []
  }
 ],
 "metadata": {
  "kernelspec": {
   "display_name": "Python 3 (ipykernel)",
   "language": "python",
   "name": "python3"
  },
  "language_info": {
   "codemirror_mode": {
    "name": "ipython",
    "version": 3
   },
   "file_extension": ".py",
   "mimetype": "text/x-python",
   "name": "python",
   "nbconvert_exporter": "python",
   "pygments_lexer": "ipython3",
   "version": "3.9.13"
  }
 },
 "nbformat": 4,
 "nbformat_minor": 5
}
