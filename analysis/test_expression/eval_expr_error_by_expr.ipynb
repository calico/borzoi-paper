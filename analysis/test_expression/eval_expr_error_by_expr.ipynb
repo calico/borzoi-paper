{
 "cells": [
  {
   "cell_type": "code",
   "execution_count": 1,
   "id": "dfed15e3",
   "metadata": {},
   "outputs": [],
   "source": [
    "import sys\n",
    "import os\n",
    "import numpy as np\n",
    "import pandas as pd\n",
    "\n",
    "import matplotlib.pyplot as plt\n",
    "import seaborn as sns\n"
   ]
  },
  {
   "cell_type": "code",
   "execution_count": 2,
   "id": "375183b0",
   "metadata": {
    "scrolled": true
   },
   "outputs": [
    {
     "name": "stdout",
     "output_type": "stream",
     "text": [
      "fold = 0\n",
      "df_pred.shape = (2487, 956)\n",
      "df_true.shape = (2487, 956)\n",
      "num_targets_strand = 955\n",
      " - qtl range = [0.0, 0.2]\n",
      " - qtl range = [0.2, 0.4]\n",
      " - qtl range = [0.4, 0.6]\n",
      " - qtl range = [0.6, 0.8]\n",
      " - qtl range = [0.8, 1.0]\n",
      "fold = 1\n",
      "df_pred.shape = (3033, 956)\n",
      "df_true.shape = (3033, 956)\n",
      "num_targets_strand = 955\n",
      " - qtl range = [0.0, 0.2]\n",
      " - qtl range = [0.2, 0.4]\n",
      " - qtl range = [0.4, 0.6]\n",
      " - qtl range = [0.6, 0.8]\n",
      " - qtl range = [0.8, 1.0]\n",
      "fold = 2\n",
      "df_pred.shape = (2054, 956)\n",
      "df_true.shape = (2054, 956)\n",
      "num_targets_strand = 955\n",
      " - qtl range = [0.0, 0.2]\n",
      " - qtl range = [0.2, 0.4]\n",
      " - qtl range = [0.4, 0.6]\n",
      " - qtl range = [0.6, 0.8]\n",
      " - qtl range = [0.8, 1.0]\n",
      "fold = 3\n",
      "df_pred.shape = (1940, 956)\n",
      "df_true.shape = (1940, 956)\n",
      "num_targets_strand = 955\n",
      " - qtl range = [0.0, 0.2]\n",
      " - qtl range = [0.2, 0.4]\n",
      " - qtl range = [0.4, 0.6]\n",
      " - qtl range = [0.6, 0.8]\n",
      " - qtl range = [0.8, 1.0]\n",
      "mae_vals.shape = (4, 5, 955)\n"
     ]
    }
   ],
   "source": [
    "#Load measured / predicted coverages and calculate break-down of held-out gene-level performance\n",
    "\n",
    "expr_qtls = [\n",
    "    [0.0, 0.2],\n",
    "    [0.2, 0.4],\n",
    "    [0.4, 0.6],\n",
    "    [0.6, 0.8],\n",
    "    [0.8, 1.0],\n",
    "]\n",
    "\n",
    "fold_index = [0, 1, 2, 3]\n",
    "\n",
    "mae_vals = []\n",
    "\n",
    "#Loop over folds\n",
    "for fold_ix in fold_index :\n",
    "\n",
    "    print(\"fold = \" + str(fold_ix))\n",
    "    \n",
    "    mae_vals_fold = []\n",
    "    \n",
    "    #Load predictions\n",
    "    df_pred = pd.read_csv(\"test_apa/f\" + str(fold_ix) + \"c0/testg_no_unclip_rna_fix-0/gene_preds.tsv\", sep='\\t')\n",
    "    df_pred = df_pred.rename(columns={'Unnamed: 0' : 'gene_id'})\n",
    "\n",
    "    #Load targets\n",
    "    df_true = pd.read_csv(\"test_apa/f\" + str(fold_ix) + \"c0/testg_no_unclip_rna_fix-0/gene_targets.tsv\", sep='\\t')\n",
    "    df_true = df_true.rename(columns={'Unnamed: 0' : 'gene_id'})\n",
    "\n",
    "    #Use all targets\n",
    "    target_cols = df_pred.columns.values.tolist()[1:]\n",
    "    \n",
    "    df_pred = df_pred[['gene_id'] + target_cols].copy()\n",
    "    df_true = df_true[['gene_id'] + target_cols].copy()\n",
    "    \n",
    "    print(\"df_pred.shape = \" + str(df_pred.shape))\n",
    "    print(\"df_true.shape = \" + str(df_true.shape))\n",
    "    \n",
    "    y_pred = np.array(df_pred[target_cols].values, dtype='float32')\n",
    "    y_true = np.array(df_true[target_cols].values, dtype='float32')\n",
    "    \n",
    "    num_targets_strand = y_pred.shape[1]\n",
    "    \n",
    "    print(\"num_targets_strand = \" + str(num_targets_strand))\n",
    "    \n",
    "    #Loop over expression quantiles\n",
    "    for qtl_i, [qtl_lo, qtl_hi] in enumerate(expr_qtls) :\n",
    "        \n",
    "        print(\" - qtl range = \" + str([qtl_lo, qtl_hi]))\n",
    "        \n",
    "        mae_val = []\n",
    "        \n",
    "        #Loop over targets\n",
    "        for ti in range(num_targets_strand) : \n",
    "            \n",
    "            y_t = y_true[:, ti]\n",
    "            y_p = y_pred[:, ti]\n",
    "            \n",
    "            nonzero_index = np.nonzero(y_t > 0.)[0]\n",
    "            \n",
    "            y_t = y_t[nonzero_index]\n",
    "            y_p = y_p[nonzero_index]\n",
    "            \n",
    "            lo_t = np.quantile(y_t, q=qtl_lo)\n",
    "            hi_t = np.quantile(y_t, q=qtl_hi)\n",
    "            \n",
    "            #Calculate coverage mean absolute error\n",
    "            keep_ixs = np.nonzero((y_t >= lo_t) & (y_t < hi_t))[0]\n",
    "            \n",
    "            y_t = y_t[keep_ixs]\n",
    "            y_p = y_p[keep_ixs]\n",
    "            \n",
    "            mae_val.append(np.mean(np.abs(y_p - y_t)))\n",
    "        \n",
    "        mae_vals_fold.append(mae_val)\n",
    "    \n",
    "    mae_vals.append(mae_vals_fold)\n",
    "\n",
    "mae_vals = np.array(mae_vals, dtype='float32')\n",
    "\n",
    "print(\"mae_vals.shape = \" + str(mae_vals.shape))\n"
   ]
  },
  {
   "cell_type": "code",
   "execution_count": 3,
   "id": "2ec0334a",
   "metadata": {},
   "outputs": [],
   "source": [
    "#Load cached GTEx results\n",
    "\n",
    "mae_vals_gtex = np.load('expr_correlation_by_expr_mae_gtex.npy')\n"
   ]
  },
  {
   "cell_type": "code",
   "execution_count": 4,
   "id": "5b427c0d",
   "metadata": {},
   "outputs": [
    {
     "name": "stderr",
     "output_type": "stream",
     "text": [
      "The PostScript backend does not support transparency; partially transparent artists will be rendered opaque.\n"
     ]
    },
    {
     "data": {
      "image/png": "[encoded data removed]",
      "text/plain": [
       "<Figure size 400x300 with 1 Axes>"
      ]
     },
     "metadata": {},
     "output_type": "display_data"
    }
   ],
   "source": [
    "#Plot held-out gene-level prediction performance as a function of lowly / mid / highly expressed genes\n",
    "\n",
    "f = plt.figure(figsize=(4, 3))\n",
    "\n",
    "qtl_strs = [\n",
    "    str(int(qtl_lo * 100)) + \" - \" + str(int(qtl_hi * 100))\n",
    "    for [qtl_lo, qtl_hi] in expr_qtls\n",
    "]\n",
    "\n",
    "x_qtl = np.arange(len(qtl_strs))\n",
    "\n",
    "plt.plot(x_qtl, np.mean(mae_vals_gtex, axis=(0, 2)), color='red', linewidth=1, zorder=-1)\n",
    "plt.scatter(x_qtl, np.mean(mae_vals_gtex, axis=(0, 2)), s=45, c='red', edgecolor='black', linewidth=0.5, zorder=2, label='GTEx')\n",
    "\n",
    "plt.plot(x_qtl, np.mean(mae_vals, axis=(0, 2)), color='blue', linewidth=1, zorder=-2)\n",
    "plt.scatter(x_qtl, np.mean(mae_vals, axis=(0, 2)), s=45, c='blue', edgecolor='black', linewidth=0.5, zorder=1, label='All RNA')\n",
    "\n",
    "plt.xlabel(\"Expression Percentile Bin\", fontsize=10)\n",
    "plt.ylabel(\"Average Absolute Error\", fontsize=10)\n",
    "\n",
    "plt.xticks(x_qtl, qtl_strs, fontsize=10)\n",
    "plt.yticks(fontsize=10)\n",
    "\n",
    "plt.legend(fontsize=8)\n",
    "\n",
    "plt.tight_layout()\n",
    "\n",
    "plt.savefig(\"borzoi_v2_expr_correlation_by_expr_mae.png\", dpi=300)\n",
    "plt.savefig(\"borzoi_v2_expr_correlation_by_expr_mae.eps\")\n",
    "\n",
    "plt.show()\n"
   ]
  },
  {
   "cell_type": "code",
   "execution_count": null,
   "id": "16ac490a",
   "metadata": {},
   "outputs": [],
   "source": []
  }
 ],
 "metadata": {
  "kernelspec": {
   "display_name": "Python 3 (ipykernel)",
   "language": "python",
   "name": "python3"
  },
  "language_info": {
   "codemirror_mode": {
    "name": "ipython",
    "version": 3
   },
   "file_extension": ".py",
   "mimetype": "text/x-python",
   "name": "python",
   "nbconvert_exporter": "python",
   "pygments_lexer": "ipython3",
   "version": "3.9.13"
  }
 },
 "nbformat": 4,
 "nbformat_minor": 5
}
