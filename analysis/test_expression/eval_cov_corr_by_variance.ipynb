{
 "cells": [
  {
   "cell_type": "code",
   "execution_count": 1,
   "id": "dfed15e3",
   "metadata": {},
   "outputs": [],
   "source": [
    "import sys\n",
    "import os\n",
    "import numpy as np\n",
    "import pandas as pd\n",
    "\n",
    "import matplotlib.pyplot as plt\n",
    "import seaborn as sns\n"
   ]
  },
  {
   "cell_type": "code",
   "execution_count": 2,
   "id": "b9e38424",
   "metadata": {
    "scrolled": true
   },
   "outputs": [
    {
     "name": "stdout",
     "output_type": "stream",
     "text": [
      "fold = 0\n",
      "genes_within_df.shape = (2487, 956)\n",
      "genes_var_df.shape = (2487, 956)\n",
      "num_targets_strand = 955\n",
      " - qtl = 0.0\n",
      " - qtl = 0.1\n",
      " - qtl = 0.2\n",
      " - qtl = 0.5\n",
      " - qtl = 0.8\n",
      " - qtl = 0.9\n",
      "fold = 1\n",
      "genes_within_df.shape = (3033, 956)\n",
      "genes_var_df.shape = (3033, 956)\n",
      "num_targets_strand = 955\n",
      " - qtl = 0.0\n",
      " - qtl = 0.1\n",
      " - qtl = 0.2\n",
      " - qtl = 0.5\n",
      " - qtl = 0.8\n",
      " - qtl = 0.9\n",
      "fold = 2\n",
      "genes_within_df.shape = (2054, 956)\n",
      "genes_var_df.shape = (2054, 956)\n",
      "num_targets_strand = 955\n",
      " - qtl = 0.0\n",
      " - qtl = 0.1\n",
      " - qtl = 0.2\n",
      " - qtl = 0.5\n",
      " - qtl = 0.8\n",
      " - qtl = 0.9\n",
      "fold = 3\n",
      "genes_within_df.shape = (1940, 956)\n",
      "genes_var_df.shape = (1940, 956)\n",
      "num_targets_strand = 955\n",
      " - qtl = 0.0\n",
      " - qtl = 0.1\n",
      " - qtl = 0.2\n",
      " - qtl = 0.5\n",
      " - qtl = 0.8\n",
      " - qtl = 0.9\n",
      "wpearsonrs.shape = (4, 6, 955)\n"
     ]
    }
   ],
   "source": [
    "#Load measured / predicted coverages and calculate break-down of held-out within-gene coverage prediction performance\n",
    "\n",
    "fold_index = [0, 1, 2, 3]\n",
    "\n",
    "var_qtls = [0.0, 0.1, 0.2, 0.5, 0.8, 0.9]\n",
    "\n",
    "wpearsonrs = []\n",
    "\n",
    "#Loop over folds\n",
    "for fold_ix in fold_index :\n",
    "\n",
    "    print(\"fold = \" + str(fold_ix))\n",
    "    \n",
    "    wpearsonrs_fold = []\n",
    "\n",
    "    #Load coverage correlations\n",
    "    genes_within_df = pd.read_csv(\"/home/drk/seqnn/data/models/v2/f\" + str(fold_ix) + \"c0/testgs-0/gene_within.tsv\", sep='\\t')\n",
    "    genes_within_df = genes_within_df.rename(columns={'Unnamed: 0' : 'gene_id'})\n",
    "    \n",
    "    #Load coverage variances\n",
    "    genes_var_df = pd.read_csv(\"/home/drk/seqnn/data/models/v2/f\" + str(fold_ix) + \"c0/testgs-0/gene_var.tsv\", sep='\\t')\n",
    "    genes_var_df = genes_var_df.rename(columns={'Unnamed: 0' : 'gene_id'})\n",
    "\n",
    "    #Use all targets\n",
    "    target_cols = genes_within_df.columns.values.tolist()[1:]\n",
    "    \n",
    "    genes_within_df = genes_within_df[['gene_id'] + target_cols].copy()\n",
    "    genes_var_df = genes_var_df[['gene_id'] + target_cols].copy()\n",
    "    \n",
    "    print(\"genes_within_df.shape = \" + str(genes_within_df.shape))\n",
    "    print(\"genes_var_df.shape = \" + str(genes_var_df.shape))\n",
    "    \n",
    "    gene_within = np.array(genes_within_df[target_cols].values, dtype='float32')\n",
    "    gene_wvar = np.array(genes_var_df[target_cols].values, dtype='float32')\n",
    "    \n",
    "    num_targets_strand = gene_within.shape[1]\n",
    "    \n",
    "    print(\"num_targets_strand = \" + str(num_targets_strand))\n",
    "    \n",
    "    #Loop over variance quantiles\n",
    "    for var_qtl_i, var_qtl in enumerate(var_qtls) :\n",
    "        \n",
    "        print(\" - qtl = \" + str(var_qtl))\n",
    "        \n",
    "        wpearsonr = []\n",
    "        \n",
    "        #Loop over targets\n",
    "        for ti in range(num_targets_strand) : \n",
    "            \n",
    "            wvar_t = np.quantile(gene_wvar[:, ti], q=var_qtl)\n",
    "            \n",
    "            #Calculate coverage pearson correlation\n",
    "            var_ixs = np.nonzero((gene_wvar[:, ti] >= wvar_t))[0]\n",
    "            \n",
    "            gwithin = gene_within[:, ti][var_ixs]\n",
    "            wr_ti = np.mean(gwithin[~(np.isnan(gwithin) | np.isinf(gwithin))])\n",
    "            \n",
    "            wpearsonr.append(wr_ti)\n",
    "        \n",
    "        wpearsonrs_fold.append(wpearsonr)\n",
    "    \n",
    "    wpearsonrs.append(wpearsonrs_fold)\n",
    "\n",
    "wpearsonrs = np.array(wpearsonrs, dtype='float32')\n",
    "\n",
    "print(\"wpearsonrs.shape = \" + str(wpearsonrs.shape))\n"
   ]
  },
  {
   "cell_type": "code",
   "execution_count": 3,
   "id": "0271c3c1",
   "metadata": {},
   "outputs": [],
   "source": [
    "#Load cached GTEx results\n",
    "\n",
    "wpearsonrs_gtex = np.load('cov_correlation_by_variance_gtex_span.npy')\n"
   ]
  },
  {
   "cell_type": "code",
   "execution_count": 4,
   "id": "0253160b",
   "metadata": {},
   "outputs": [
    {
     "name": "stderr",
     "output_type": "stream",
     "text": [
      "The PostScript backend does not support transparency; partially transparent artists will be rendered opaque.\n"
     ]
    },
    {
     "data": {
      "image/png": "[encoded data removed]",
      "text/plain": [
       "<Figure size 400x300 with 1 Axes>"
      ]
     },
     "metadata": {},
     "output_type": "display_data"
    }
   ],
   "source": [
    "#Plot within-gene bin-level coverage prediction correlation as a function of coverage variance threshold\n",
    "\n",
    "f = plt.figure(figsize=(4, 3))\n",
    "\n",
    "plt.plot(var_qtls, np.mean(wpearsonrs_gtex, axis=(0, 2)), color='red', linewidth=1, zorder=-1)\n",
    "plt.scatter(var_qtls, np.mean(wpearsonrs_gtex, axis=(0, 2)), s=45, c='red', edgecolor='black', linewidth=0.5, zorder=2, label='GTEx')\n",
    "\n",
    "plt.plot(var_qtls, np.mean(wpearsonrs, axis=(0, 2)), color='blue', linewidth=1, zorder=-2)\n",
    "plt.scatter(var_qtls, np.mean(wpearsonrs, axis=(0, 2)), s=45, c='blue', edgecolor='black', linewidth=0.5, zorder=1, label='All RNA')\n",
    "\n",
    "plt.xlabel(\"Variance Percentile Threshold\", fontsize=10)\n",
    "plt.ylabel(\"Average Pearson R\", fontsize=10)\n",
    "\n",
    "plt.xticks(var_qtls, [int(var_qtl * 100) for var_qtl in var_qtls], fontsize=10)\n",
    "plt.yticks(fontsize=10)\n",
    "\n",
    "plt.legend(fontsize=8)\n",
    "\n",
    "plt.tight_layout()\n",
    "\n",
    "plt.savefig(\"borzoi_v2_cov_correlation_by_variance_span.png\", dpi=300)\n",
    "plt.savefig(\"borzoi_v2_cov_correlation_by_variance_span.eps\")\n",
    "\n",
    "plt.show()\n"
   ]
  },
  {
   "cell_type": "code",
   "execution_count": null,
   "id": "df23e164",
   "metadata": {},
   "outputs": [],
   "source": []
  }
 ],
 "metadata": {
  "kernelspec": {
   "display_name": "Python 3 (ipykernel)",
   "language": "python",
   "name": "python3"
  },
  "language_info": {
   "codemirror_mode": {
    "name": "ipython",
    "version": 3
   },
   "file_extension": ".py",
   "mimetype": "text/x-python",
   "name": "python",
   "nbconvert_exporter": "python",
   "pygments_lexer": "ipython3",
   "version": "3.9.13"
  }
 },
 "nbformat": 4,
 "nbformat_minor": 5
}
