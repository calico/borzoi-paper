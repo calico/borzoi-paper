{
 "cells": [
  {
   "cell_type": "code",
   "execution_count": 1,
   "id": "7c5f93db",
   "metadata": {},
   "outputs": [],
   "source": [
    "import sys\n",
    "import os\n",
    "import numpy as np\n",
    "import pandas as pd\n",
    "\n",
    "import h5py\n",
    "\n",
    "import gc\n"
   ]
  },
  {
   "cell_type": "code",
   "execution_count": 2,
   "id": "d4988000",
   "metadata": {},
   "outputs": [],
   "source": [
    "#Load scores and auxiliary data, compute mean over folds, and save new scores\n",
    "\n",
    "fold_index = [0, 1, 2, 3]\n",
    "\n",
    "#Initialize HDF5\n",
    "scores_h5 = h5py.File('scores_mean.h5', 'w')\n",
    "\n",
    "seqs = None\n",
    "grads = None\n",
    "genes = None\n",
    "chrs = None\n",
    "starts = None\n",
    "ends = None\n",
    "strands = None\n",
    "\n",
    "#Loop over folds\n",
    "for fold_i, fold_ix in enumerate(fold_index) :\n",
    "    \n",
    "    #Load score file\n",
    "    score_file = h5py.File('scores_f' + str(fold_ix) + 'c0.h5', 'r')\n",
    "\n",
    "    if fold_i == 0 :\n",
    "        seqs = score_file['seqs'][()]\n",
    "        grads = score_file['grads'][()]\n",
    "        genes = score_file['gene'][()]\n",
    "        chrs = score_file['chr'][()]\n",
    "        starts = score_file['start'][()]\n",
    "        ends = score_file['end'][()]\n",
    "        strands = score_file['strand'][()]\n",
    "    else :\n",
    "        grads += score_file['grads'][()]\n",
    "    \n",
    "    #Collect garbage\n",
    "    gc.collect()\n",
    "\n",
    "grads /= float(len(fold_index))\n",
    "\n",
    "#Re-save datasets in h5\n",
    "scores_h5.create_dataset('seqs', data=np.array(seqs, dtype='bool'))\n",
    "scores_h5.create_dataset('grads', data=np.array(grads, dtype='float16'))\n",
    "\n",
    "scores_h5.create_dataset('gene', data=np.array(genes, dtype='S'))\n",
    "scores_h5.create_dataset('chr', data=np.array(chrs, dtype='S'))\n",
    "scores_h5.create_dataset('start', data=np.array(starts))\n",
    "scores_h5.create_dataset('end', data=np.array(ends))\n",
    "scores_h5.create_dataset('strand', data=np.array(strands, dtype='S'))\n",
    "\n",
    "#Close h5\n",
    "scores_h5.close()\n"
   ]
  },
  {
   "cell_type": "code",
   "execution_count": null,
   "id": "959fec3a",
   "metadata": {},
   "outputs": [],
   "source": []
  }
 ],
 "metadata": {
  "kernelspec": {
   "display_name": "Python 3 (ipykernel)",
   "language": "python",
   "name": "python3"
  },
  "language_info": {
   "codemirror_mode": {
    "name": "ipython",
    "version": 3
   },
   "file_extension": ".py",
   "mimetype": "text/x-python",
   "name": "python",
   "nbconvert_exporter": "python",
   "pygments_lexer": "ipython3",
   "version": "3.9.13"
  }
 },
 "nbformat": 4,
 "nbformat_minor": 5
}
