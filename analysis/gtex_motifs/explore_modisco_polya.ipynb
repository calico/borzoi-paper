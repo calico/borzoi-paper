{
 "cells": [
  {
   "cell_type": "code",
   "execution_count": 1,
   "id": "8063fa68",
   "metadata": {},
   "outputs": [],
   "source": [
    "import os\n",
    "import time\n",
    "import numpy as np\n",
    "import h5py\n",
    "import pandas as pd\n",
    "\n",
    "import matplotlib.pyplot as plt\n",
    "from matplotlib.ticker import FormatStrFormatter\n",
    "\n",
    "import seaborn as sns\n",
    "\n",
    "from scipy.stats import spearmanr, pearsonr, ranksums\n",
    "\n",
    "import gc\n",
    "\n",
    "#PWM sequence logo and score visualization code\n",
    "import matplotlib\n",
    "\n",
    "import matplotlib.cm as cm\n",
    "import matplotlib.colors as colors\n",
    "import colorsys\n",
    "\n",
    "import matplotlib as mpl\n",
    "from matplotlib.text import TextPath\n",
    "from matplotlib.patches import PathPatch, Rectangle\n",
    "from matplotlib.font_manager import FontProperties\n",
    "from matplotlib import gridspec\n",
    "from matplotlib.ticker import FormatStrFormatter\n",
    "\n",
    "#Helper function to draw a letter at a given position\n",
    "def dna_letter_at(letter, x, y, yscale=1, ax=None, color=None, alpha=1.0):\n",
    "\n",
    "    #Define letter heights and colors\n",
    "    fp = FontProperties(family=\"DejaVu Sans\", weight=\"bold\")\n",
    "    globscale = 1.35\n",
    "    LETTERS = {\t\"T\" : TextPath((-0.305, 0), \"T\", size=1, prop=fp),\n",
    "                \"G\" : TextPath((-0.384, 0), \"G\", size=1, prop=fp),\n",
    "                \"A\" : TextPath((-0.35, 0), \"A\", size=1, prop=fp),\n",
    "                \"C\" : TextPath((-0.366, 0), \"C\", size=1, prop=fp),\n",
    "                \"UP\" : TextPath((-0.488, 0), '$\\\\Uparrow$', size=1, prop=fp),\n",
    "                \"DN\" : TextPath((-0.488, 0), '$\\\\Downarrow$', size=1, prop=fp),\n",
    "                \"(\" : TextPath((-0.25, 0), \"(\", size=1, prop=fp),\n",
    "                \".\" : TextPath((-0.125, 0), \"-\", size=1, prop=fp),\n",
    "                \")\" : TextPath((-0.1, 0), \")\", size=1, prop=fp)}\n",
    "    COLOR_SCHEME = {'G': 'orange',#'orange', \n",
    "                    'A': 'green',#'red', \n",
    "                    'C': 'blue',#'blue', \n",
    "                    'T': 'red',#'darkgreen',\n",
    "                    'UP': 'green', \n",
    "                    'DN': 'red',\n",
    "                    '(': 'black',\n",
    "                    '.': 'black', \n",
    "                    ')': 'black'}\n",
    "\n",
    "\n",
    "    text = LETTERS[letter]\n",
    "\n",
    "    #Choose color\n",
    "    chosen_color = COLOR_SCHEME[letter]\n",
    "    if color is not None :\n",
    "        chosen_color = color\n",
    "\n",
    "    #Draw letter onto axis\n",
    "    t = mpl.transforms.Affine2D().scale(1*globscale, yscale*globscale) + \\\n",
    "        mpl.transforms.Affine2D().translate(x,y) + ax.transData\n",
    "    p = PathPatch(text, lw=0, fc=chosen_color, alpha=alpha, transform=t)\n",
    "    if ax != None:\n",
    "        ax.add_artist(p)\n",
    "    \n",
    "    return p\n",
    "\n",
    "#Function to plot a sequence logo of a PWM\n",
    "def plot_pwm(pwm, figsize=(16, 2), plot_y_ticks=True, y_min=None, y_max=None, save_figs=False, fig_name=\"default\") :\n",
    "    \n",
    "    fig = plt.figure(figsize=figsize)\n",
    "\n",
    "    ax = plt.gca()\n",
    "    \n",
    "    height_base = 0.\n",
    "    logo_height = 1.0\n",
    "    \n",
    "    #Conservation = Max_Bits - Entropy\n",
    "    conservation = 2. - np.sum(-pwm * np.log2(pwm + 1e-6), axis=1)\n",
    "    \n",
    "    #Loop over sequence positions\n",
    "    for j in range(0, pwm.shape[0]) :\n",
    "        sort_index = np.argsort(pwm[j, :])\n",
    "\n",
    "        #Loop over nucleotide identities\n",
    "        for ii in range(0, 4) :\n",
    "            i = sort_index[ii]\n",
    "\n",
    "            #Calculate prob * conservation\n",
    "            nt_prob = pwm[j, i] * conservation[j]\n",
    "\n",
    "            #Decode letter from nucleotide identity\n",
    "            nt = ''\n",
    "            if i == 0 :\n",
    "                nt = 'A'\n",
    "            elif i == 1 :\n",
    "                nt = 'C'\n",
    "            elif i == 2 :\n",
    "                nt = 'G'\n",
    "            elif i == 3 :\n",
    "                nt = 'T'\n",
    "\n",
    "            #Draw letter at position (height proportional to conservation)\n",
    "            color = None\n",
    "            if ii == 0 :\n",
    "                dna_letter_at(nt, j + 0.5, height_base, nt_prob * logo_height, ax, color=color)\n",
    "            else :\n",
    "                prev_prob = np.sum(pwm[j, sort_index[:ii]]) * logo_height  * conservation[j]\n",
    "                dna_letter_at(nt, j + 0.5, height_base + prev_prob, nt_prob * logo_height, ax, color=color)\n",
    "    \n",
    "    plt.sca(ax)\n",
    "    plt.xticks([], [])\n",
    "    plt.gca().yaxis.set_major_formatter(FormatStrFormatter('%.3f'))\n",
    "    \n",
    "    plt.xlim((0, pwm.shape[0]))\n",
    "    \n",
    "    #plt.axis('off')\n",
    "    \n",
    "    #Remove x-axis ticks\n",
    "    if plot_y_ticks :\n",
    "        plt.yticks(fontsize=12)\n",
    "    else :\n",
    "        plt.yticks([], [])\n",
    "    \n",
    "    #Set axis limits\n",
    "    if y_min is not None and y_max is not None :\n",
    "        plt.ylim(y_min, y_max)\n",
    "    elif y_min is not None :\n",
    "        plt.ylim(y_min)\n",
    "    else :\n",
    "        plt.ylim(\n",
    "            min(0., np.min(np.sum(pwm, axis=-1))) - 0.01 * np.max(np.abs(np.sum(pwm, axis=-1))),\n",
    "            max(0., np.max(np.sum(pwm, axis=-1))) + 0.01 * np.max(np.abs(np.sum(pwm, axis=-1)))\n",
    "        )\n",
    "    \n",
    "    plt.axhline(y=0., color='black', linestyle='-', linewidth=1)\n",
    "\n",
    "    #for axis in fig.axes :\n",
    "    #    axis.get_xaxis().set_visible(False)\n",
    "    #    axis.get_yaxis().set_visible(False)\n",
    "\n",
    "    plt.tight_layout()\n",
    "\n",
    "    if save_figs :\n",
    "        plt.savefig(fig_name + \".png\", transparent=True, dpi=300)\n",
    "        plt.savefig(fig_name + \".eps\")\n",
    "\n",
    "    plt.show()\n"
   ]
  },
  {
   "cell_type": "code",
   "execution_count": 6,
   "id": "aebfec49",
   "metadata": {
    "scrolled": false
   },
   "outputs": [
    {
     "name": "stdout",
     "output_type": "stream",
     "text": [
      "- metacluster_0_pattern_0 -\n",
      "- n = 866\n"
     ]
    },
    {
     "data": {
      "image/png": "[encoded data removed]",
      "text/plain": [
       "<Figure size 160x100 with 1 Axes>"
      ]
     },
     "metadata": {},
     "output_type": "display_data"
    },
    {
     "name": "stdout",
     "output_type": "stream",
     "text": [
      "- metacluster_0_pattern_1 -\n",
      "- n = 774\n"
     ]
    },
    {
     "data": {
      "image/png": "[encoded data removed]",
      "text/plain": [
       "<Figure size 120x100 with 1 Axes>"
      ]
     },
     "metadata": {},
     "output_type": "display_data"
    },
    {
     "name": "stdout",
     "output_type": "stream",
     "text": [
      "- metacluster_0_pattern_15 -\n",
      "- n = 282\n"
     ]
    },
    {
     "data": {
      "image/png": "[encoded data removed]",
      "text/plain": [
       "<Figure size 140x100 with 1 Axes>"
      ]
     },
     "metadata": {},
     "output_type": "display_data"
    },
    {
     "name": "stdout",
     "output_type": "stream",
     "text": [
      "- metacluster_0_pattern_33 -\n",
      "- n = 159\n"
     ]
    },
    {
     "data": {
      "image/png": "[encoded data removed]",
      "text/plain": [
       "<Figure size 200x100 with 1 Axes>"
      ]
     },
     "metadata": {},
     "output_type": "display_data"
    },
    {
     "name": "stdout",
     "output_type": "stream",
     "text": [
      "- metacluster_0_pattern_24 -\n",
      "- n = 230\n"
     ]
    },
    {
     "data": {
      "image/png": "[encoded data removed]",
      "text/plain": [
       "<Figure size 180x100 with 1 Axes>"
      ]
     },
     "metadata": {},
     "output_type": "display_data"
    },
    {
     "name": "stdout",
     "output_type": "stream",
     "text": [
      "- metacluster_0_pattern_28 -\n",
      "- n = 207\n"
     ]
    },
    {
     "data": {
      "image/png": "[encoded data removed]",
      "text/plain": [
       "<Figure size 240x100 with 1 Axes>"
      ]
     },
     "metadata": {},
     "output_type": "display_data"
    },
    {
     "name": "stdout",
     "output_type": "stream",
     "text": [
      "- metacluster_0_pattern_42 -\n",
      "- n = 105\n"
     ]
    },
    {
     "data": {
      "image/png": "[encoded data removed]",
      "text/plain": [
       "<Figure size 140x100 with 1 Axes>"
      ]
     },
     "metadata": {},
     "output_type": "display_data"
    },
    {
     "name": "stdout",
     "output_type": "stream",
     "text": [
      "- metacluster_1_pattern_2 -\n",
      "- n = 514\n"
     ]
    },
    {
     "data": {
      "image/png": "[encoded data removed]",
      "text/plain": [
       "<Figure size 100x100 with 1 Axes>"
      ]
     },
     "metadata": {},
     "output_type": "display_data"
    },
    {
     "name": "stdout",
     "output_type": "stream",
     "text": [
      "- metacluster_1_pattern_3 -\n",
      "- n = 427\n"
     ]
    },
    {
     "data": {
      "image/png": "[encoded data removed]",
      "text/plain": [
       "<Figure size 80x100 with 1 Axes>"
      ]
     },
     "metadata": {},
     "output_type": "display_data"
    }
   ],
   "source": [
    "#Find and plot chosen metacluster pwms from modisco results file\n",
    "\n",
    "save_figs = True\n",
    "\n",
    "ic_t = 0.1\n",
    "gc_content = 0.41\n",
    "\n",
    "modisco_file = 'gtex_polya_undo_clip_4_folds_3/tfm.h5'\n",
    "\n",
    "modisco_names = [\n",
    "    'CFI',\n",
    "    'CSE',\n",
    "    'CSTF',\n",
    "    'CSTF2',\n",
    "    'CSE2',\n",
    "    'ELAVL',\n",
    "    'ENOX1/RBM45',\n",
    "    'SRSF',\n",
    "    'HNRNPA1',\n",
    "]\n",
    "\n",
    "modisco_clusters = [\n",
    "    'metacluster_0_pattern_0',\n",
    "    'metacluster_0_pattern_1',\n",
    "    'metacluster_0_pattern_15',\n",
    "    'metacluster_0_pattern_33',\n",
    "    'metacluster_0_pattern_24',\n",
    "    'metacluster_0_pattern_28',\n",
    "    'metacluster_0_pattern_42',\n",
    "    'metacluster_1_pattern_2',\n",
    "    'metacluster_1_pattern_3',\n",
    "]\n",
    "\n",
    "#Function to clip PWMs by IC\n",
    "def ic_clip(pwm, threshold, background=[0.25]*4):\n",
    "    \n",
    "    pc = 0.001\n",
    "    odds_ratio = ((pwm+pc)/(1+4*pc)) / (background[None,:])\n",
    "    ic = (np.log((pwm+pc)/(1+4*pc)) / np.log(2))*pwm\n",
    "    ic -= (np.log(background)*background/np.log(2))[None,:]\n",
    "    ic_total = np.sum(ic,axis=1)[:,None]\n",
    "\n",
    "    #No bp pass threshold\n",
    "    if ~np.any(ic_total.flatten()>threshold):\n",
    "        return None, 0, pwm.shape[0]\n",
    "    else:\n",
    "        left = np.where(ic_total>threshold)[0][0]\n",
    "        right = np.where(ic_total>threshold)[0][-1]\n",
    "        return pwm[left:(right+1)], left, right+1\n",
    "\n",
    "#Plot modisco PWMs\n",
    "\n",
    "#Load h5 file\n",
    "with h5py.File(modisco_file, 'r') as tfm_h5 :\n",
    "    \n",
    "    #Loop over clusters\n",
    "    for pwm_i, [name, cluster] in enumerate(zip(modisco_names, modisco_clusters)) :\n",
    "        \n",
    "        metacluster_ix = int(cluster.split(\"etacluster_\")[1].split(\"_pattern\")[0])\n",
    "        pattern_ix = int(cluster.split(\"pattern_\")[1])\n",
    "        \n",
    "        #Load PWM (not GC-clipped)\n",
    "        pwm_unclipped = tfm_h5[\"metacluster_idx_to_submetacluster_results\"]['metacluster_' + str(metacluster_ix)]['seqlets_to_patterns_result']['patterns']['pattern_' + str(pattern_ix)]['sequence']['fwd'][()]\n",
    "        \n",
    "        #Get number of seqlets from strings\n",
    "        seqlet_strs = tfm_h5[\"metacluster_idx_to_submetacluster_results\"]['metacluster_' + str(metacluster_ix)]['seqlets_to_patterns_result']['patterns']['pattern_' + str(pattern_ix)]['seqlets_and_alnmts']['seqlets'][()]\n",
    "        seqlet_strs = [seqlet_str.decode() for seqlet_str in seqlet_strs]\n",
    "        \n",
    "        #Calculate AT/GC background frequencies\n",
    "        at_pct = (1-gc_content)/2\n",
    "        gc_pct = gc_content/2\n",
    "        background = np.array([at_pct, gc_pct, gc_pct, at_pct])\n",
    "\n",
    "        #Clip by IC\n",
    "        pwm, _, _ = ic_clip(pwm_unclipped, ic_t, background)\n",
    "        \n",
    "        print(\"- \" + cluster + \" -\")\n",
    "        print(\"- n = \" + str(len(seqlet_strs)))\n",
    "        \n",
    "        #Plot PWM\n",
    "        plot_pwm(pwm, figsize=(0.2 * pwm.shape[0], 1), y_min=0., y_max=2., plot_y_ticks=False, save_figs=save_figs, fig_name=\"attribution_figs/\" + name.replace(\"/\", \"_\") + \"_\" + cluster)\n"
   ]
  },
  {
   "cell_type": "code",
   "execution_count": null,
   "id": "4e9e3987",
   "metadata": {},
   "outputs": [],
   "source": []
  }
 ],
 "metadata": {
  "kernelspec": {
   "display_name": "Python 3 (ipykernel)",
   "language": "python",
   "name": "python3"
  },
  "language_info": {
   "codemirror_mode": {
    "name": "ipython",
    "version": 3
   },
   "file_extension": ".py",
   "mimetype": "text/x-python",
   "name": "python",
   "nbconvert_exporter": "python",
   "pygments_lexer": "ipython3",
   "version": "3.9.13"
  }
 },
 "nbformat": 4,
 "nbformat_minor": 5
}
